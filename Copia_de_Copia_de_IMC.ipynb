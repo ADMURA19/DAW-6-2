{
  "nbformat": 4,
  "nbformat_minor": 0,
  "metadata": {
    "colab": {
      "provenance": [],
      "include_colab_link": true
    },
    "kernelspec": {
      "name": "python3",
      "display_name": "Python 3"
    },
    "language_info": {
      "name": "python"
    }
  },
  "cells": [
    {
      "cell_type": "markdown",
      "metadata": {
        "id": "view-in-github",
        "colab_type": "text"
      },
      "source": [
        "<a href=\"https://colab.research.google.com/github/ADMURA19/DAW-6-2/blob/gh-pages/Copia_de_Copia_de_IMC.ipynb\" target=\"_parent\"><img src=\"https://colab.research.google.com/assets/colab-badge.svg\" alt=\"Open In Colab\"/></a>"
      ]
    },
    {
      "cell_type": "markdown",
      "source": [
        "## Cálculo del indice de la masa corporal"
      ],
      "metadata": {
        "id": "OwRzpGYwGLde"
      }
    },
    {
      "cell_type": "code",
      "execution_count": null,
      "metadata": {
        "colab": {
          "base_uri": "https://localhost:8080/"
        },
        "id": "Jc7jAYkZGIxT",
        "outputId": "56451057-1518-4536-c0bf-518ff9c99720"
      },
      "outputs": [
        {
          "output_type": "stream",
          "name": "stdout",
          "text": [
            "Indice de masa corporal\n",
            "23.148148148148145\n"
          ]
        }
      ],
      "source": [
        "#@title Cálculo del IMC { run: \"auto\" }\n",
        "estatura = 1.80 #@param {type:\"number\"}\n",
        "peso = 75 #@param {type:\"number\"}\n",
        "imc=peso/estatura**2\n",
        "print(\"Indice de masa corporal\")\n",
        "print(imc)\n"
      ]
    },
    {
      "cell_type": "code",
      "source": [],
      "metadata": {
        "id": "Eu8jlDmiiJjH"
      },
      "execution_count": null,
      "outputs": []
    },
    {
      "cell_type": "markdown",
      "source": [],
      "metadata": {
        "id": "przfrtoJGKRx"
      }
    }
  ]
}